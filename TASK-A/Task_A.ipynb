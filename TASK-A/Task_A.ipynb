{
  "cells": [
    {
      "cell_type": "code",
      "execution_count": null,
      "metadata": {
        "id": "_3q3mbf3FDhT"
      },
      "outputs": [
        {
          "ename": "",
          "evalue": "",
          "output_type": "error",
          "traceback": [
            "\u001b[1;31mRunning cells with 'Python 3.10.0' requires the ipykernel package.\n",
            "\u001b[1;31m<a href='command:jupyter.createPythonEnvAndSelectController'>Create a Python Environment</a> with the required packages.\n",
            "\u001b[1;31mOr install 'ipykernel' using the command: 'c:/Users/chann/AppData/Local/Programs/Python/Python310/python.exe -m pip install ipykernel -U --user --force-reinstall'"
          ]
        }
      ],
      "source": [
        "import numpy as np\n",
        "import matplotlib.pyplot as plt\n",
        "from scipy.integrate import trapezoid"
      ]
    },
    {
      "cell_type": "markdown",
      "metadata": {},
      "source": [
        "# Fourier Series Analysis"
      ]
    },
    {
      "cell_type": "markdown",
      "metadata": {
        "id": "ExqOKPV5FPo7"
      },
      "source": [
        "## Core functions"
      ]
    },
    {
      "cell_type": "code",
      "execution_count": null,
      "metadata": {
        "id": "ohL-d-bci-r_"
      },
      "outputs": [
        {
          "ename": "",
          "evalue": "",
          "output_type": "error",
          "traceback": [
            "\u001b[1;31mRunning cells with 'Python 3.10.0' requires the ipykernel package.\n",
            "\u001b[1;31m<a href='command:jupyter.createPythonEnvAndSelectController'>Create a Python Environment</a> with the required packages.\n",
            "\u001b[1;31mOr install 'ipykernel' using the command: 'c:/Users/chann/AppData/Local/Programs/Python/Python310/python.exe -m pip install ipykernel -U --user --force-reinstall'"
          ]
        }
      ],
      "source": [
        "def compute_Fourier_Series(x, t, K, T=None, t0=None):\n",
        "    \"\"\"\n",
        "    Compute Fourier series coefficients (exponential form) for k in [-K, ..., K].\n",
        "\n",
        "    Inputs:\n",
        "        x : numpy array (N,)  -- sampled signal (real or complex)\n",
        "        t : numpy array (N,)  -- time instants (uniformly spaced)\n",
        "        K : int               -- highest harmonic index (non-negative)\n",
        "        T : float or None     -- fundamental period. If None, inferred from t as T = t[-1]-t[0]+dt\n",
        "        t0: float or None     -- integration start. If None, uses t[0]\n",
        "\n",
        "    Returns:\n",
        "        c  : numpy array (2K+1,) complex  -- coefficients corresponding to ks\n",
        "        ks : numpy array (2K+1,) int      -- harmonic indices (from -K to K)\n",
        "    \"\"\"\n",
        "    x = np.asarray(x)\n",
        "    t = np.asarray(t)\n",
        "    if x.shape != t.shape or t.ndim != 1:\n",
        "        raise ValueError(\"x and t must be 1D arrays of same shape\")\n",
        "    dt = t[1] - t[0]\n",
        "    if T is None:\n",
        "        T = (t[-1] - t[0]) + dt\n",
        "    if t0 is None:\n",
        "        t0 = t[0]\n",
        "    ks = np.arange(-K, K+1)\n",
        "    c = np.zeros(len(ks), dtype=np.complex128)\n",
        "    for i, k in enumerate(ks):\n",
        "        integrand = x * np.exp(-1j * 2.0 * np.pi * k * (t - t0) / T)\n",
        "        c[i] = (1.0 / T) * trapezoid(integrand, t)\n",
        "    return c, ks\n",
        "\n",
        "def reconstruct_from_coeffs(c, ks, t, T=None, t0=None):\n",
        "    \"\"\"\n",
        "    Reconstruct signal from coefficients c and harmonic indices ks at times t.\n",
        "    \"\"\"\n",
        "    t = np.asarray(t)\n",
        "    dt = t[1] - t[0]\n",
        "    if T is None:\n",
        "        T = (t[-1] - t[0]) + dt\n",
        "    if t0 is None:\n",
        "        t0 = t[0]\n",
        "    x_hat = np.zeros_like(t, dtype=np.complex128)\n",
        "    for ci, k in zip(c, ks):\n",
        "        x_hat += ci * np.exp(1j * 2.0 * np.pi * k * (t - t0) / T)\n",
        "    return x_hat\n",
        "\n",
        "# Utility: continuous L2 error (sqrt integral |err|^2 dt)\n",
        "def l2_error_continuous(x, x_hat, t):\n",
        "    return np.sqrt(trapezoid(np.abs(x - x_hat)**2, t))"
      ]
    },
    {
      "cell_type": "markdown",
      "metadata": {
        "id": "fkjxBe4OFS5Y"
      },
      "source": [
        "## a) Exploring Polynomial Structures with Fourier Series (Chebyshev Polynomials)"
      ]
    },
    {
      "cell_type": "code",
      "execution_count": null,
      "metadata": {
        "id": "Op0xixfmjt0P"
      },
      "outputs": [],
      "source": [
        "def part_a_chebyshev_T5(dt=0.001, T=2.0, K_max=60):\n",
        "    \"\"\"\n",
        "    (a) Model x(t) = T5(tau) with fundamental period T=2s.\n",
        "    Tau maps t in [0,2) -> [-1,1] with tau = 2*(t/T) - 1 -> tau = t - 1 when T=2.\n",
        "    Produces:\n",
        "      - error vs K\n",
        "      - overlay of original and recon for small & large K\n",
        "      - coefficient spectrum for a large K\n",
        "    \"\"\"\n",
        "    t = np.arange(0, T, dt)\n",
        "    tau = 2.0 * (t / T) - 1.0  # mapping to [-1,1], but for T=2 simplifies to t-1\n",
        "    # Chebyshev T5(x) = cos(5 * arccos(x)) for x in [-1,1]\n",
        "    x = np.cos(5.0 * np.arccos(tau))\n",
        "\n",
        "    Ks = np.arange(1, K_max+1)\n",
        "    errors = []\n",
        "    for K in Ks:\n",
        "        c, ks = compute_Fourier_Series(x, t, K=K, T=T, t0=t[0])\n",
        "        xhat = reconstruct_from_coeffs(c, ks, t, T=T, t0=t[0]).real\n",
        "        errors.append(l2_error_continuous(x, xhat, t))\n",
        "\n",
        "    # Pick small and large K for overlay:\n",
        "    K_small = max(3, min(5, K_max//10))\n",
        "    K_large = K_max\n",
        "\n",
        "    c_small, ks_small = compute_Fourier_Series(x, t, K=K_small, T=T, t0=t[0])\n",
        "    xhat_small = reconstruct_from_coeffs(c_small, ks_small, t, T=T, t0=t[0]).real\n",
        "\n",
        "    c_large, ks_large = compute_Fourier_Series(x, t, K=K_large, T=T, t0=t[0])\n",
        "    xhat_large = reconstruct_from_coeffs(c_large, ks_large, t, T=T, t0=t[0]).real\n",
        "\n",
        "    # Plotting\n",
        "    fig, axs = plt.subplots(3, 1, figsize=(10, 12))\n",
        "    axs[0].plot(Ks, errors, '-o', markersize=4)\n",
        "    axs[0].set_xlabel('K (highest harmonic index)')\n",
        "    axs[0].set_ylabel('L2 approximation error')\n",
        "    axs[0].set_title('Approximation error ||x(t) - x̂(t)|| vs K')\n",
        "\n",
        "    axs[1].plot(t, x, label='Original x(t) = T5(tau)', linewidth=1.2)\n",
        "    axs[1].plot(t, xhat_small, '--', label=f'Reconstruction K={K_small}')\n",
        "    axs[1].plot(t, xhat_large, ':', label=f'Reconstruction K={K_large}')\n",
        "    axs[1].set_xlim(0, 2.0)\n",
        "    axs[1].set_title('Original vs Fourier reconstructions (small vs large K)')\n",
        "    axs[1].legend()\n",
        "\n",
        "    # Spectrum for large K\n",
        "    axs[2].stem(ks_large, np.abs(c_large), basefmt=\" \")\n",
        "    axs[2].set_xlabel('k (harmonic index)')\n",
        "    axs[2].set_ylabel('|c[k]|')\n",
        "    axs[2].set_title(f'Fourier coefficients magnitude |c[k]| for K={K_large}')\n",
        "    plt.tight_layout()\n",
        "    plt.show()\n",
        "\n",
        "    return {\"t\": t, \"x\": x, \"Ks\": Ks, \"errors\": np.array(errors),\n",
        "            \"c_large\": c_large, \"ks_large\": ks_large}\n"
      ]
    },
    {
      "cell_type": "code",
      "execution_count": null,
      "metadata": {
        "colab": {
          "base_uri": "https://localhost:8080/",
          "height": 995
        },
        "id": "qhJs1gZqFdMK",
        "outputId": "101979da-aeab-486b-ce3e-0bb6afd96290"
      },
      "outputs": [],
      "source": [
        "print(\"(a) Chebyshev T5 demo...\")\n",
        "out_a = part_a_chebyshev_T5(dt=0.001, T=2.0, K_max=60)"
      ]
    },
    {
      "cell_type": "markdown",
      "metadata": {
        "id": "XhWf8YDwFhHk"
      },
      "source": [
        "## b) The Mystery of Gibbs Phenomenon"
      ]
    },
    {
      "cell_type": "code",
      "execution_count": null,
      "metadata": {
        "id": "WXuZ8fNrcEmv"
      },
      "outputs": [],
      "source": [
        "import numpy as np\n",
        "import matplotlib.pyplot as plt\n",
        "\n",
        "import numpy as np\n",
        "\n",
        "def periodic_rect(t, p=1.0, T=1.0, t0=0.0):\n",
        "    \"\"\"\n",
        "    Periodic rectangular pulse (square wave).\n",
        "\n",
        "    For p=1 and T=1:\n",
        "        f(t) = 1 for 0 <= (t - t0) mod T < 0.5\n",
        "        f(t) = 0 for 0.5 <= (t - t0) mod T < 1\n",
        "\n",
        "    Parameters\n",
        "    ----------\n",
        "    t : array_like\n",
        "        Time values.\n",
        "    p : float\n",
        "        Pulse width (default 1.0, but here we use it just as a flag).\n",
        "    T : float\n",
        "        Period (default 1.0).\n",
        "    t0 : float\n",
        "        Time shift (default 0.0).\n",
        "    \"\"\"\n",
        "    # Shift into [0, T)\n",
        "    t_shifted = (t - t0) % T\n",
        "    return np.where(t_shifted < (T/2), 1.0, 0.0)\n",
        "\n",
        "\n",
        "\n",
        "def part_b_gibbs(dt=0.001, T=1.0, p=None, K_list=[3, 9, 30]):\n",
        "    \"\"\"\n",
        "    Demonstrate Gibbs phenomenon on a periodic rectangular pulse.\n",
        "\n",
        "    Default case:\n",
        "    - Assignment states p=1, T=1 (full period = 1).\n",
        "    - We shift by t0 = T/2 so that the pulse is 1 on [0.5, 1) and 0 on [0, 0.5),\n",
        "      creating a discontinuity at t=0.5 where Gibbs phenomenon is visible.\n",
        "    \"\"\"\n",
        "    if p is None:\n",
        "        p = T   # full-period pulse width\n",
        "    t0 = T / 2  # shift to create visible discontinuity\n",
        "\n",
        "    # Time grid\n",
        "    t = np.arange(0, T, dt)\n",
        "    x = periodic_rect(t, p=p, T=T, t0=t0)\n",
        "\n",
        "    # Fourier reconstructions\n",
        "    reconstructions = {}\n",
        "    for K in K_list:\n",
        "        c, ks = compute_Fourier_Series(x, t, K=K, T=T, t0=0.0)\n",
        "        xhat = reconstruct_from_coeffs(c, ks, t, T=T, t0=0.0).real\n",
        "        reconstructions[K] = (xhat, c, ks)\n",
        "\n",
        "    # Plot full period\n",
        "    fig = plt.figure(figsize=(11, 7))\n",
        "    ax1 = fig.add_subplot(2, 1, 1)\n",
        "    ax1.plot(t, x, label='Original rectangle', linewidth=1)\n",
        "    for K in K_list:\n",
        "        ax1.plot(t, reconstructions[K][0], label=f'K={K}', alpha=0.9)\n",
        "    ax1.set_title('Rectangular pulse and Fourier approximations (full period)')\n",
        "    ax1.set_xlim(0, T)\n",
        "    ax1.legend()\n",
        "\n",
        "\n",
        "    # Zoom near discontinuity at t=0.5\n",
        "    ax2 = fig.add_subplot(2, 1, 2)\n",
        "    zoom_win = 0.1  # half-width of zoom window\n",
        "    center = 0.5\n",
        "\n",
        "    # Pick region around t=0.5\n",
        "    mask = (t >= center - zoom_win) & (t <= center + zoom_win)\n",
        "    t_zoom = t[mask]\n",
        "    x_zoom = x[mask]\n",
        "\n",
        "    ax2.plot(t_zoom, x_zoom, label='Original', linewidth=1)\n",
        "    for K in K_list:\n",
        "        xhat_full = reconstructions[K][0]\n",
        "        ax2.plot(t_zoom, xhat_full[mask], label=f'K={K}')\n",
        "\n",
        "    ax2.set_title('Zoom near discontinuity at t=0.5 (showing Gibbs overshoot)')\n",
        "    ax2.set_xlabel('time (s)')\n",
        "    ax2.legend()\n",
        "    plt.tight_layout()\n",
        "    plt.show()\n",
        "\n",
        "\n",
        "    # Overshoot estimate around t=0.5\n",
        "    Kmax = max(K_list)\n",
        "    xhat_max, _, _ = reconstructions[Kmax]\n",
        "\n",
        "    center = 0.5\n",
        "    win = 0.1  # look ±0.1 around the discontinuity\n",
        "    idxs = np.where((t >= center - win) & (t <= center + win))[0]\n",
        "\n",
        "    overshoot_value = np.max(xhat_max[idxs]) - 1.0\n",
        "\n",
        "\n",
        "    return {\n",
        "        \"t\": t,\n",
        "        \"x\": x,\n",
        "        \"reconstructions\": reconstructions,\n",
        "        \"overshoot_estimate\": overshoot_value,\n",
        "    }\n",
        "\n"
      ]
    },
    {
      "cell_type": "code",
      "execution_count": null,
      "metadata": {
        "colab": {
          "base_uri": "https://localhost:8080/",
          "height": 565
        },
        "id": "znFWvroTGzKl",
        "outputId": "a9c7c2ed-b692-45d2-e112-bf13a1e1604d"
      },
      "outputs": [],
      "source": [
        "print(\"(b) Gibbs phenomenon demo...\")\n",
        "out_b = part_b_gibbs(dt=0.001, T=1.0, p=1, K_list=[3,9,30])\n",
        "print(\"Estimated overshoot (largest K):\", out_b[\"overshoot_estimate\"])"
      ]
    },
    {
      "cell_type": "markdown",
      "metadata": {
        "id": "tMDaYMCUG6fO"
      },
      "source": [
        "Q) Why does the Fourier approximation overshoot near discontinuities?"
      ]
    },
    {
      "cell_type": "markdown",
      "metadata": {
        "id": "m8jDFzgzG7L2"
      },
      "source": [
        "The Fourier series overshoots near discontinuities because smooth sinusoids cannot instantaneously follow a jump, so they oscillate around it. Even as we add more harmonics, the oscillations compress but the peak overshoot remains, since the series converges in energy but not uniformly at the discontinuity. This is why the Gibbs phenomenon is a persistent feature of Fourier approximations to discontinuous signals."
      ]
    },
    {
      "cell_type": "markdown",
      "metadata": {
        "id": "Na1xqVHXG_UA"
      },
      "source": [
        "Q) Why does this effect not vanish as K→∞?"
      ]
    },
    {
      "cell_type": "markdown",
      "metadata": {
        "id": "QPY0_S8_HDd8"
      },
      "source": [
        "\n",
        "Increasing\n",
        "K (more harmonics) makes the approximation closer everywhere except at the discontinuity. The overshoot becomes narrower (confined to a smaller region around the jump), but its height does not decrease.\n",
        "\n",
        "In fact, the overshoot settles to a fixed fraction (~9%) of the jump size, no matter how large K is."
      ]
    },
    {
      "cell_type": "markdown",
      "metadata": {
        "id": "kJQFU4gGI6nQ"
      },
      "source": [
        "## c) Real-World Connection: Distorted Audio Signals (Clipped Sine wave)"
      ]
    },
    {
      "cell_type": "code",
      "execution_count": null,
      "metadata": {
        "id": "uLIGBmNyrVjP"
      },
      "outputs": [],
      "source": [
        "def part_c_clipped_sinusoid(dt=0.001, T=1.0, f0=5.0, clip_thresh=0.7, K_values=[3,5,30]):\n",
        "    \"\"\"\n",
        "    Clipped sinusoid x(t):\n",
        "        x(t) =  1   if sin(2π f0 t) >  clip_thresh\n",
        "              = -1   if sin(2π f0 t) < -clip_thresh\n",
        "              = sin(2π f0 t) otherwise\n",
        "    Period T = 1 (since f0 = 5 Hz → period 0.2 s, which divides 1 exactly).\n",
        "\n",
        "    Uses consistent T and t0 in both coefficient computation and reconstruction.\n",
        "    \"\"\"\n",
        "    # time grid\n",
        "    t = np.arange(0, T, dt)\n",
        "\n",
        "    # unclipped sinusoid\n",
        "    s = np.sin(2.0 * np.pi * f0 * t)\n",
        "\n",
        "    # apply clipping\n",
        "    x = np.where(s > clip_thresh, 1.0,\n",
        "                 np.where(s < -clip_thresh, -1.0, s))\n",
        "\n",
        "    results = {}\n",
        "    for K in K_values:\n",
        "        # compute Fourier coefficients with consistent T and t0\n",
        "        c, ks = compute_Fourier_Series(x, t, K=K, T=T, t0=0.0)\n",
        "\n",
        "        # reconstruct with same T and t0\n",
        "        xhat = reconstruct_from_coeffs(c, ks, t, T=T, t0=0.0).real\n",
        "\n",
        "        results[K] = {\"c\": c, \"ks\": ks, \"xhat\": xhat}\n",
        "\n",
        "    # plot original and reconstructions\n",
        "    plt.figure(figsize=(10,6))\n",
        "    plt.plot(t, x, label='Clipped signal (original)', linewidth=1.2)\n",
        "    for K in K_values:\n",
        "        plt.plot(t, results[K][\"xhat\"], label=f'Recon K={K}')\n",
        "    plt.xlim(0, 1.0)\n",
        "    plt.title('Clipped sinusoid and Fourier reconstructions')\n",
        "    plt.xlabel('time (s)')\n",
        "    plt.legend()\n",
        "    plt.show()\n",
        "\n",
        "    # spectrum for larger K\n",
        "    Kplot = max(K_values)\n",
        "    plt.figure(figsize=(8,4))\n",
        "    plt.stem(results[Kplot][\"ks\"], np.abs(results[Kplot][\"c\"]), basefmt=\" \")\n",
        "    plt.xlabel('k (harmonic index)')\n",
        "    plt.ylabel('|c[k]|')\n",
        "    plt.title(f'Spectrum |c[k]| for clipped sinusoid (K={Kplot})')\n",
        "    plt.show()\n",
        "\n",
        "    return {\"t\": t, \"x\": x, \"results\": results}\n"
      ]
    },
    {
      "cell_type": "code",
      "execution_count": null,
      "metadata": {
        "colab": {
          "base_uri": "https://localhost:8080/",
          "height": 949
        },
        "id": "X4nWEEyBsX1-",
        "outputId": "10755f2c-53d6-4d7b-8588-818cbe937157"
      },
      "outputs": [],
      "source": [
        "print(\"part (c) Clipped sinusoid demo...\")\n",
        "out_c = part_c_clipped_sinusoid(dt=0.001, T=1.0, f0=5.0, clip_thresh=0.7, K_values=[3,5,30])"
      ]
    }
  ],
  "metadata": {
    "colab": {
      "provenance": []
    },
    "kernelspec": {
      "display_name": "Python 3",
      "name": "python3"
    },
    "language_info": {
      "name": "python",
      "version": "3.10.0"
    }
  },
  "nbformat": 4,
  "nbformat_minor": 0
}
